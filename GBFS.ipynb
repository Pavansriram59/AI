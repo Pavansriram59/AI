{
 "cells": [
  {
   "cell_type": "code",
   "execution_count": 6,
   "metadata": {},
   "outputs": [],
   "source": [
    "graph,h={},{}\n",
    "n=int(input(\"Enter the no of vertices:\"))\n",
    "for i in range(n):\n",
    "    v=int(input(f\"Enter the heuristic value for the node {i}:\"))\n",
    "    h[i]=v\n",
    "    if i not in graph:\n",
    "        graph[i]=[]\n",
    "        e=int(input(f\"Enter the no of edges for vertex {i} :\"))\n",
    "        for _ in range(e):\n",
    "            x=int(input(\"Enter the vertex:\"))\n",
    "            w=int(input(\"Enter the weight for the edge:\"))\n",
    "            graph[i].append((x,w))"
   ]
  },
  {
   "cell_type": "code",
   "execution_count": 7,
   "metadata": {},
   "outputs": [
    {
     "name": "stdout",
     "output_type": "stream",
     "text": [
      "The graph is:\n",
      "0 -> [(1, 1), (2, 2)]\n",
      "1 -> [(3, 7), (4, 9), (5, 5)]\n",
      "2 -> [(6, 4), (7, 3), (8, 6), (9, 8)]\n",
      "3 -> []\n",
      "4 -> []\n",
      "5 -> []\n",
      "6 -> []\n",
      "7 -> [(8, 1)]\n",
      "8 -> [(7, 1)]\n",
      "9 -> []\n",
      "{0: 8, 1: 10, 2: 4, 3: 15, 4: 14, 5: 12, 6: 7, 7: 2, 8: 0, 9: 4}\n"
     ]
    }
   ],
   "source": [
    "print(\"The graph is:\")\n",
    "for i,j in graph.items():\n",
    "    print(f\"{i} -> {j}\")\n",
    "print(h)"
   ]
  },
  {
   "cell_type": "code",
   "execution_count": 56,
   "metadata": {},
   "outputs": [],
   "source": [
    "def second(x):\n",
    "    return x[1]\n",
    "\n",
    "def best_first(graph,node,goal):\n",
    "    visited=[]\n",
    "    queue=[]\n",
    "    cost=0\n",
    "    visited.append((node,h[node]))\n",
    "    queue.append((node,h[node]))\n",
    "    \n",
    "    while queue:\n",
    "        print(\"Queue:\",queue)\n",
    "        print()\n",
    "        t=queue.pop(0)\n",
    "        print(t, end=\" \")\n",
    "        if t[0]==goal:\n",
    "            print(\"Path Found\")\n",
    "            print('Path cost is:',cost)\n",
    "            return\n",
    "        for neighbor in graph[t[0]]:\n",
    "            tail,w=neighbor\n",
    "            if (tail,h[tail]) not in visited:\n",
    "                visited.append((tail,h[tail]))\n",
    "                queue.append((tail,h[tail]))\n",
    "        cost+=w\n",
    "        queue.sort(key=second)"
   ]
  },
  {
   "cell_type": "code",
   "execution_count": 57,
   "metadata": {},
   "outputs": [
    {
     "name": "stdout",
     "output_type": "stream",
     "text": [
      "Queue: [(0, 8)]\n",
      "(0, 8) Queue: [(2, 4), (1, 10)]\n",
      "(2, 4) Queue: [(8, 0), (7, 2), (9, 4), (6, 7), (1, 10)]\n",
      "(8, 0) Path Found\n",
      "Path cost is: 10\n"
     ]
    }
   ],
   "source": [
    "best_first(graph,0,8)"
   ]
  }
 ],
 "metadata": {
  "kernelspec": {
   "display_name": "base",
   "language": "python",
   "name": "python3"
  },
  "language_info": {
   "codemirror_mode": {
    "name": "ipython",
    "version": 3
   },
   "file_extension": ".py",
   "mimetype": "text/x-python",
   "name": "python",
   "nbconvert_exporter": "python",
   "pygments_lexer": "ipython3",
   "version": "3.9.7"
  },
  "orig_nbformat": 4
 },
 "nbformat": 4,
 "nbformat_minor": 2
}
